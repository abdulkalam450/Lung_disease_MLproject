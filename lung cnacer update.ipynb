{
 "cells": [
  {
   "cell_type": "code",
   "execution_count": null,
   "id": "cd684e40",
   "metadata": {},
   "outputs": [],
   "source": [
    "import pandas as pd\n",
    "import numpy as np\n",
    "import matplotlib.pyplot as plt\n",
    "import seaborn as sns\n",
    "from sklearn.model_selection import train_test_split\n",
    "from sklearn.linear_model import LogisticRegression\n",
    "from sklearn.metrics import accuracy_score,classification_report,confusion_matrix\n",
    "import warnings"
   ]
  },
  {
   "cell_type": "code",
   "execution_count": null,
   "id": "b45e2010",
   "metadata": {},
   "outputs": [],
   "source": [
    "df=pd.read_csv(r\"C:\\Users\\manso\\Downloads\\lung cnacer update.csv\")\n",
    "df"
   ]
  },
  {
   "cell_type": "code",
   "execution_count": null,
   "id": "6a1b89b7",
   "metadata": {},
   "outputs": [],
   "source": [
    "df.info()"
   ]
  },
  {
   "cell_type": "code",
   "execution_count": null,
   "id": "3fefd835",
   "metadata": {},
   "outputs": [],
   "source": [
    "df.describe()"
   ]
  },
  {
   "cell_type": "code",
   "execution_count": null,
   "id": "7bd24a7d",
   "metadata": {},
   "outputs": [],
   "source": [
    "df.columns"
   ]
  },
  {
   "cell_type": "code",
   "execution_count": null,
   "id": "6d82ec16",
   "metadata": {},
   "outputs": [],
   "source": [
    "df.isnull()"
   ]
  },
  {
   "cell_type": "code",
   "execution_count": null,
   "id": "f4a2b424",
   "metadata": {},
   "outputs": [],
   "source": [
    "df.isnull().sum()"
   ]
  },
  {
   "cell_type": "code",
   "execution_count": null,
   "id": "bf41089c",
   "metadata": {},
   "outputs": [],
   "source": [
    "df.isnull().sum().sum()"
   ]
  },
  {
   "cell_type": "code",
   "execution_count": null,
   "id": "30d078b2",
   "metadata": {},
   "outputs": [],
   "source": [
    "df.drop('Patient Id',inplace=True,axis=1)"
   ]
  },
  {
   "cell_type": "code",
   "execution_count": null,
   "id": "28c6e5b5",
   "metadata": {},
   "outputs": [],
   "source": [
    "df.columns"
   ]
  },
  {
   "cell_type": "code",
   "execution_count": null,
   "id": "e5a4775c",
   "metadata": {},
   "outputs": [],
   "source": [
    "numeric_df = df.select_dtypes(include=[np.number])\n",
    "plt.figure(figsize=(12,12))\n",
    "sns.heatmap(numeric_df.corr(),annot=True,fmt='.1f',cmap='coolwarm')\n",
    "plt.title('Correlation Heatmap')\n",
    "plt.show()"
   ]
  },
  {
   "cell_type": "code",
   "execution_count": null,
   "id": "899e6520",
   "metadata": {},
   "outputs": [],
   "source": [
    "x=df.drop('Level',axis=1)\n",
    "y=df['Level']"
   ]
  },
  {
   "cell_type": "code",
   "execution_count": null,
   "id": "3bf4b272",
   "metadata": {},
   "outputs": [],
   "source": [
    "x_train,x_test,y_train,y_test = train_test_split(x,y, test_size=0.4, random_state=2)"
   ]
  },
  {
   "cell_type": "code",
   "execution_count": null,
   "id": "fdabadef",
   "metadata": {},
   "outputs": [],
   "source": [
    "model= LogisticRegression(max_iter=500)\n",
    "model.fit(x_train,y_train)"
   ]
  },
  {
   "cell_type": "code",
   "execution_count": null,
   "id": "31b63c34",
   "metadata": {},
   "outputs": [],
   "source": [
    "predictions = model.predict(x_test)"
   ]
  },
  {
   "cell_type": "code",
   "execution_count": null,
   "id": "21a4145b",
   "metadata": {},
   "outputs": [],
   "source": [
    "accuracy = accuracy_score(y_test, predictions)\n",
    "conf_matrix = confusion_matrix(y_test, predictions)\n",
    "class_report = classification_report(y_test, predictions, output_dict=True)"
   ]
  },
  {
   "cell_type": "code",
   "execution_count": null,
   "id": "a6a1b0ba",
   "metadata": {},
   "outputs": [],
   "source": [
    "repot_df =pd.DataFrame(class_report).transpose()"
   ]
  },
  {
   "cell_type": "code",
   "execution_count": null,
   "id": "776819fb",
   "metadata": {},
   "outputs": [],
   "source": [
    "plt.figure(figsize=(10,2))\n",
    "sns.heatmap(repot_df.iloc[:-1,:-1], annot=True,cmap='coolwarm')\n",
    "plt.title('Classification Report of Heatmap')\n",
    "plt.show()\n",
    "\n",
    "# Print out accuracy and confusion matrix for reference\n",
    "print(\"Accuracy:\",accuracy)\n",
    "print(\"comfusion matrix \\n\" ,conf_matrix)"
   ]
  },
  {
   "cell_type": "code",
   "execution_count": null,
   "id": "f79791d8",
   "metadata": {},
   "outputs": [],
   "source": [
    "# Credits\n",
    "print(\"Please input the 15 features for prediction (separate each value with Enter):\")\n",
    "new_data_point = []\n",
    "for i in range(1, 16):  # Loop for 15 features\n",
    "    value = float(input(f\"Enter feature {i}: \"))\n",
    "    new_data_point.append(value)\n",
    "    \n",
    "    new_data_point = np.array(new_data_point).reshape(1, -1)\n",
    "\n",
    "    new_prediction = model.predict(new_data_point)\n",
    "new_prediction_proba = model.predict_proba(new_data_point)\n",
    "\n",
    "print(f\"\\nPredicted class for the new data point: {new_prediction[0]}\")\n",
    "print(f\"Prediction probabilities: {new_prediction_proba}\")\n",
    "\n",
    "plt.figure(figsize=(10, 6))\n",
    "sns.heatmap(report_df.iloc[:-1, :-1], annot=True, cmap='coolwarm', fmt='.2f')\n",
    "plt.title('Classification Report Heatmap')\n",
    "plt.show()"
   ]
  },
  {
   "cell_type": "code",
   "execution_count": null,
   "id": "1b336b7c",
   "metadata": {},
   "outputs": [],
   "source": []
  },
  {
   "cell_type": "code",
   "execution_count": null,
   "id": "860412af-2afc-48a7-ac99-7cb81da3f993",
   "metadata": {},
   "outputs": [],
   "source": []
  },
  {
   "cell_type": "code",
   "execution_count": null,
   "id": "9501d2b9-88aa-4ff3-ac6a-c474863e5aff",
   "metadata": {},
   "outputs": [],
   "source": []
  },
  {
   "cell_type": "code",
   "execution_count": null,
   "id": "c9e8bfcb-3bb6-40b2-bef7-3c636f6a99e3",
   "metadata": {},
   "outputs": [],
   "source": []
  }
 ],
 "metadata": {
  "kernelspec": {
   "display_name": "Python 3 (ipykernel)",
   "language": "python",
   "name": "python3"
  },
  "language_info": {
   "codemirror_mode": {
    "name": "ipython",
    "version": 3
   },
   "file_extension": ".py",
   "mimetype": "text/x-python",
   "name": "python",
   "nbconvert_exporter": "python",
   "pygments_lexer": "ipython3",
   "version": "3.11.5"
  }
 },
 "nbformat": 4,
 "nbformat_minor": 5
}
